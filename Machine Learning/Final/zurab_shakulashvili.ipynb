{
 "cells": [
  {
   "cell_type": "markdown",
   "metadata": {},
   "source": [
    "ფექეჯების იმპორტი:\n",
    "numpy - გამოთვებისთვის\n",
    "ppylot - ანალიზისთვის"
   ]
  },
  {
   "cell_type": "code",
   "execution_count": 27,
   "metadata": {},
   "outputs": [],
   "source": [
    "import gymnasium as gym\n",
    "import numpy as np\n",
    "import matplotlib.pyplot as plt"
   ]
  },
  {
   "cell_type": "markdown",
   "metadata": {},
   "source": [
    "training პარამეტრების ინიციალიზაცია\n",
    "EPISODES - ტრენინგის რაოდენობა, უნდა იყოს მინიმუმ 10000 რადგან EPSILON_DECAY_RATE არის 0.0001\n",
    "EPSILON_DECAY_RATE - რომ რენდომ ექშენები აღარ აკეთოს აგენტმა და q ცხრილი გამოიყენოს"
   ]
  },
  {
   "cell_type": "code",
   "execution_count": 28,
   "metadata": {},
   "outputs": [],
   "source": [
    "EPISODES = 15000\n",
    "LEARNING_RATE = 0.9\n",
    "DISCOUNT_FACTOR = 0.9\n",
    "EPSILON_DECAY_RATE = 0.0001"
   ]
  },
  {
   "cell_type": "markdown",
   "metadata": {},
   "source": [
    "გარემოს ინიციალიზაცია\n",
    "map_name - 8x8 სამყაროს ვიყენებ. \n",
    "is_slippery - ალბათობრივი ექშენის ცვლადი, ანუ რომელიმე ექშენის გაკეთება, აუცილებლად ამ ექშენის შედეგს არ მოგვცემს.\n",
    "render_mode - დავინახოთ თუ არა ანიმაცია"
   ]
  },
  {
   "cell_type": "code",
   "execution_count": 29,
   "metadata": {},
   "outputs": [],
   "source": [
    "render_mode_enabled = False"
   ]
  },
  {
   "cell_type": "code",
   "execution_count": 30,
   "metadata": {},
   "outputs": [],
   "source": [
    "env = gym.make('FrozenLake-v1', map_name=\"8x8\", is_slippery=False, render_mode='human' if render_mode_enabled else None)"
   ]
  },
  {
   "cell_type": "markdown",
   "metadata": {},
   "source": [
    "q_values გრიდი იქნება 64x4-ზე, რადგან 64 სთეითი გვაქვს და 4 ექშენი"
   ]
  },
  {
   "cell_type": "code",
   "execution_count": 31,
   "metadata": {},
   "outputs": [],
   "source": [
    "q_values = np.zeros((env.observation_space.n, env.action_space.n))"
   ]
  },
  {
   "cell_type": "markdown",
   "metadata": {},
   "source": [
    "ეფსილონი თავიდან 1, რადგან გვინდა თავიდან სულ რენდომ ექშენები აკეთოს და ნელ-ნელა გამოიყენოს q ცხრილი.\n",
    "random_generator - რენდომ გენერატორი რომ დავითვალოთ, ალბათობა რომ რენდომ ექშენი გააკეთოს და არა q ცხრილი გამოიყენოს"
   ]
  },
  {
   "cell_type": "code",
   "execution_count": 32,
   "metadata": {},
   "outputs": [],
   "source": [
    "epsilon = 1\n",
    "random_generator = np.random.default_rng()"
   ]
  },
  {
   "cell_type": "markdown",
   "metadata": {},
   "source": [
    "reward_found_in_episode გვეხმარება გრაფის აგებისთვის და ანალიზისთვის, ტრეგნინგისას იპოვა თუ არა რევარდი."
   ]
  },
  {
   "cell_type": "code",
   "execution_count": 33,
   "metadata": {},
   "outputs": [],
   "source": [
    "reward_found_in_episode = np.zeros(EPISODES)"
   ]
  },
  {
   "cell_type": "markdown",
   "metadata": {},
   "source": [
    "reset აბრუნებს აგენს საწყის 0,0 კოორდინატზე. 0-63 სტეტს აბრუნებს და ჩვენ 0 გვაინტერესებს.\n",
    "\n",
    "ტერმინაციის ცვლდადები:\n",
    "terminated - ჩავარდა ტბაში\n",
    "lost - ძალიან ბევრი იბოდიალა აგენტმა და ვერაფერს მიაღწია (2000 სთეფი)\n",
    "\n",
    "სანამ არ დაიკარგება ან არ ჩავარდება ექშენს აკეთებს. ეს ხდება episodes ჯერ.\n",
    "\n",
    "action: 0 - მარცხნივ, 1 - ქვემოთ, 2 - მარჯვნივ, 3 - ზემოთ\n",
    "\n",
    "reward - 1 თუ მიაღწია საჩუქარს, 0 წინააღმდეგ შემთხვევაში\n",
    "\n",
    "\n",
    "if random_action_prob.random() < epsilon:\n",
    "    action = env.action_space.sample()\n",
    "else:\n",
    "    action = np.argmax(q[state, :])\n",
    "\n",
    "ეფსილონის მიხედვით ან რენდომ ექშენს ვაკეთებთ ან q ცხრილს ვიყენებთ\n",
    "\n",
    "\n",
    "q_values[state, action] = q_values[state, action] + LEARNING_RATE * (\n",
    "        reward + DISCOUNT_FACTOR * np.max(q_values[new_state,:]) - q_values[state,action]\n",
    "    )\n",
    "ეს ფორმულა ააფდეითებს არსებულ state,action წყვილის ველიუს რევარდის და ახალი სტეიტის მაქსიმალური q valueს მიხედვით.\n",
    "\n",
    "ყველა ტრენინგის მერე ეფსილონს ვამცირებთ სანამ 0 არ გახდება, რომ q ცხრილი გამოიყენოს აგენტმა.\n",
    "\n",
    "როცა მხოლოდ q თეიბლს იყენებს leaning_rate შევამციროთ რომ დასტაბილურდეს q ცხრილი."
   ]
  },
  {
   "cell_type": "code",
   "execution_count": 34,
   "metadata": {},
   "outputs": [
    {
     "name": "stdout",
     "output_type": "stream",
     "text": [
      "[[0.22876792 0.25418658 0.25418658 0.22876792]\n",
      " [0.22876792 0.28242954 0.28242954 0.25418658]\n",
      " [0.25418658 0.3138106  0.3138106  0.28242954]\n",
      " [0.28242954 0.34867844 0.34867844 0.3138106 ]\n",
      " [0.3138106  0.38742049 0.38742049 0.34867844]\n",
      " [0.34867844 0.43046721 0.43046721 0.38742049]\n",
      " [0.38742049 0.4782969  0.4782969  0.43046721]\n",
      " [0.43046721 0.531441   0.4782969  0.4782969 ]\n",
      " [0.25418658 0.28242954 0.28242954 0.22876792]\n",
      " [0.25418658 0.3138106  0.3138106  0.25418658]\n",
      " [0.28242954 0.34867844 0.34867844 0.28242954]\n",
      " [0.3138106  0.         0.38742049 0.3138106 ]\n",
      " [0.34867844 0.43046721 0.43046721 0.34867844]\n",
      " [0.38742049 0.4782969  0.4782969  0.38742049]\n",
      " [0.43046721 0.531441   0.531441   0.43046721]\n",
      " [0.4782969  0.59049    0.531441   0.4782969 ]\n",
      " [0.28242954 0.3138106  0.3138106  0.25418658]\n",
      " [0.28242954 0.34867844 0.34867844 0.28242954]\n",
      " [0.3138106  0.38742049 0.         0.3138106 ]\n",
      " [0.         0.         0.         0.        ]\n",
      " [0.         0.4782969  0.4782969  0.38742049]\n",
      " [0.43046721 0.         0.531441   0.43046721]\n",
      " [0.4782969  0.59049    0.59049    0.4782969 ]\n",
      " [0.531441   0.6561     0.59049    0.531441  ]\n",
      " [0.3138106  0.28242954 0.34867844 0.28242954]\n",
      " [0.3138106  0.3138106  0.38742049 0.3138106 ]\n",
      " [0.34867844 0.34867844 0.43046721 0.34867844]\n",
      " [0.38742049 0.         0.4782969  0.        ]\n",
      " [0.43046721 0.531441   0.         0.43046721]\n",
      " [0.         0.         0.         0.        ]\n",
      " [0.         0.6561     0.6561     0.531441  ]\n",
      " [0.59049    0.729      0.6561     0.59049   ]\n",
      " [0.28242954 0.25418658 0.3138106  0.3138106 ]\n",
      " [0.28242954 0.         0.34867844 0.34867844]\n",
      " [0.3138106  0.         0.         0.38742049]\n",
      " [0.         0.         0.         0.        ]\n",
      " [0.         0.4782969  0.59049    0.4782969 ]\n",
      " [0.531441   0.531441   0.6561     0.        ]\n",
      " [0.59049    0.         0.729      0.59049   ]\n",
      " [0.6561     0.81       0.729      0.6561    ]\n",
      " [0.25418658 0.22876792 0.         0.28242954]\n",
      " [0.         0.         0.         0.        ]\n",
      " [0.         0.         0.         0.        ]\n",
      " [0.         0.38742044 0.4782969  0.        ]\n",
      " [0.43046721 0.         0.531441   0.531441  ]\n",
      " [0.4782969  0.4782969  0.         0.59049   ]\n",
      " [0.         0.         0.         0.        ]\n",
      " [0.         0.9        0.81       0.729     ]\n",
      " [0.22876792 0.20589032 0.         0.25418658]\n",
      " [0.         0.         0.         0.        ]\n",
      " [0.         0.         0.         0.        ]\n",
      " [0.         0.         0.         0.4304672 ]\n",
      " [0.         0.         0.         0.        ]\n",
      " [0.         0.         0.         0.531441  ]\n",
      " [0.         0.         0.         0.        ]\n",
      " [0.         1.         0.9        0.81      ]\n",
      " [0.14944911 0.18530075 0.         0.22876791]\n",
      " [0.18530075 0.         0.         0.        ]\n",
      " [0.         0.         0.         0.        ]\n",
      " [0.         0.         0.         0.        ]\n",
      " [0.         0.         0.         0.        ]\n",
      " [0.         0.         0.         0.43046721]\n",
      " [0.         0.         0.         0.        ]\n",
      " [0.         0.         0.         0.        ]]\n"
     ]
    },
    {
     "data": {
      "image/png": "[encoded data removed]",
      "text/plain": [
       "<Figure size 640x480 with 1 Axes>"
      ]
     },
     "metadata": {},
     "output_type": "display_data"
    }
   ],
   "source": [
    "for episode in range(EPISODES):\n",
    "    state = env.reset()[0]\n",
    "\n",
    "    terminated = False\n",
    "    lost = False\n",
    "\n",
    "    while(not terminated and not lost):\n",
    "        \n",
    "        if random_generator.random() < epsilon:\n",
    "            action = env.action_space.sample()\n",
    "        else:\n",
    "            action = np.argmax(q_values[state, :])\n",
    "        \n",
    "        new_state, reward, terminated, lost, _ = env.step(action)\n",
    "\n",
    "        q_values[state, action] = q_values[state, action] + LEARNING_RATE * (\n",
    "            reward + DISCOUNT_FACTOR * np.max(q_values[new_state,:]) - q_values[state,action]\n",
    "        )\n",
    "        \n",
    "        state = new_state\n",
    "\n",
    "    \n",
    "    epsilon = max(epsilon - EPSILON_DECAY_RATE, 0)\n",
    "\n",
    "    if epsilon == 0:\n",
    "        LEARNING_RATE = 0.0001\n",
    "\n",
    "    if reward == 1:\n",
    "        reward_found_in_episode[episode] = 1\n",
    "\n",
    "rewards_graph = np.zeros(EPISODES)\n",
    "\n",
    "for episode in range(EPISODES):\n",
    "    rewards_graph[episode] = np.sum(reward_found_in_episode[max(0, episode - 100) : (episode + 1)])\n",
    "\n",
    "plt.plot(rewards_graph)\n",
    "print(q_values)"
   ]
  },
  {
   "cell_type": "markdown",
   "metadata": {},
   "source": [
    "იგივე გავუშვათ ოღონდ is_slippery ფლეგი გავუსეტოთ, რაც ნიშნავს რომ 1/3 ალბათობით გადავა აგენტი არჩეული ექშენის შედეგზე."
   ]
  },
  {
   "cell_type": "code",
   "execution_count": 47,
   "metadata": {},
   "outputs": [
    {
     "name": "stdout",
     "output_type": "stream",
     "text": [
      "[[1.28410198e-04 1.30427362e-04 5.10252600e-04 5.00133060e-03]\n",
      " [1.27604507e-04 1.38211905e-04 7.35447088e-03 5.20183173e-04]\n",
      " [1.94088180e-04 2.66906691e-04 9.13649300e-03 1.85589079e-04]\n",
      " [5.38325442e-04 5.57880465e-04 5.97465482e-03 6.72997129e-04]\n",
      " [6.96215354e-04 6.30127406e-04 7.47027004e-04 5.02283830e-03]\n",
      " [1.35175027e-03 1.29250246e-03 5.26721554e-03 1.47853058e-03]\n",
      " [4.07942487e-03 4.11077428e-03 1.39570177e-02 3.33519645e-03]\n",
      " [4.25980862e-03 4.06431287e-03 7.68286518e-03 4.20968009e-03]\n",
      " [1.22367082e-04 1.26236132e-04 3.19929333e-03 1.31438226e-04]\n",
      " [1.34616638e-04 1.38143561e-04 2.96790451e-04 7.03062547e-03]\n",
      " [1.28071376e-04 1.55042048e-04 1.38704381e-04 7.76836165e-03]\n",
      " [1.81870778e-04 3.36763733e-04 4.94320146e-04 7.86780466e-03]\n",
      " [2.66656600e-04 1.91440189e-04 6.07102038e-04 1.22375415e-02]\n",
      " [1.26254807e-03 1.16307026e-03 5.27264852e-03 1.01522362e-03]\n",
      " [2.98276617e-03 4.32017250e-03 1.44580918e-02 4.29635916e-03]\n",
      " [4.83434176e-03 1.42015441e-02 5.10813851e-03 4.47445744e-03]\n",
      " [1.05376620e-04 7.09348498e-05 9.41489035e-04 1.03092952e-04]\n",
      " [7.08608790e-05 7.04560197e-05 7.76627754e-05 1.74922330e-03]\n",
      " [2.09611918e-03 2.21469615e-05 4.57420222e-06 4.72910046e-06]\n",
      " [0.00000000e+00 0.00000000e+00 0.00000000e+00 0.00000000e+00]\n",
      " [2.00450724e-05 8.17683666e-07 7.25761788e-03 6.20106182e-06]\n",
      " [5.66673753e-07 5.72269108e-05 7.07092757e-05 9.32558742e-03]\n",
      " [2.79062011e-03 4.21364374e-03 3.11309577e-02 3.92027507e-03]\n",
      " [6.52749456e-03 4.35030340e-02 6.95083123e-03 5.74602544e-03]\n",
      " [4.20791578e-05 6.90354795e-05 2.62449538e-03 7.04619017e-05]\n",
      " [5.47575834e-05 9.94314416e-04 6.20682167e-05 4.32019674e-05]\n",
      " [1.17096407e-05 2.65417602e-06 1.95662685e-04 4.22031056e-06]\n",
      " [1.71303437e-08 8.95535563e-04 3.79800985e-09 3.02945352e-08]\n",
      " [7.30155862e-04 1.16856934e-06 2.15525197e-06 1.88689952e-06]\n",
      " [0.00000000e+00 0.00000000e+00 0.00000000e+00 0.00000000e+00]\n",
      " [7.61290778e-04 2.28539779e-04 5.54940138e-02 4.15007862e-04]\n",
      " [1.25431179e-02 1.29853895e-02 9.13829852e-02 1.08628873e-02]\n",
      " [3.44812658e-05 1.61686285e-05 3.56630267e-05 2.08025633e-04]\n",
      " [5.02426181e-07 8.40092986e-06 2.87993419e-07 1.11510939e-04]\n",
      " [1.33249830e-07 4.69580569e-10 1.81372242e-11 8.12440322e-06]\n",
      " [0.00000000e+00 0.00000000e+00 0.00000000e+00 0.00000000e+00]\n",
      " [7.76059718e-06 4.64080537e-05 3.86208480e-03 1.50089763e-05]\n",
      " [2.33283243e-05 2.27918927e-03 1.79231081e-04 4.56380658e-05]\n",
      " [5.18875256e-04 1.88668387e-02 3.68865098e-04 7.48945876e-04]\n",
      " [1.72574518e-02 3.63133477e-02 1.99918360e-01 2.63020526e-02]\n",
      " [2.82355422e-05 4.74491373e-06 3.73311397e-06 3.80939479e-06]\n",
      " [0.00000000e+00 0.00000000e+00 0.00000000e+00 0.00000000e+00]\n",
      " [0.00000000e+00 0.00000000e+00 0.00000000e+00 0.00000000e+00]\n",
      " [2.62298022e-07 9.08745452e-05 7.48951929e-08 0.00000000e+00]\n",
      " [4.61345821e-07 3.98977168e-06 3.06458284e-07 1.31314257e-02]\n",
      " [7.36510849e-05 3.89117499e-05 4.24720718e-05 2.96312821e-02]\n",
      " [0.00000000e+00 0.00000000e+00 0.00000000e+00 0.00000000e+00]\n",
      " [6.18965122e-02 8.29546768e-04 4.11163813e-01 1.66904225e-02]\n",
      " [1.85272289e-05 1.64833376e-07 1.93541204e-05 6.44580644e-07]\n",
      " [0.00000000e+00 0.00000000e+00 0.00000000e+00 0.00000000e+00]\n",
      " [2.01696702e-08 8.11169601e-06 2.73800269e-05 0.00000000e+00]\n",
      " [7.52394178e-06 0.00000000e+00 2.31736501e-06 2.98794226e-06]\n",
      " [0.00000000e+00 0.00000000e+00 0.00000000e+00 0.00000000e+00]\n",
      " [4.62814456e-05 1.43109458e-05 7.11082410e-02 2.97582506e-07]\n",
      " [0.00000000e+00 0.00000000e+00 0.00000000e+00 0.00000000e+00]\n",
      " [7.37670541e-03 3.78199050e-02 8.12749223e-01 5.06210176e-03]\n",
      " [1.67278087e-05 1.37026952e-05 1.50123131e-05 1.40002082e-05]\n",
      " [2.44098057e-06 1.31800547e-05 1.84815924e-06 1.63428383e-06]\n",
      " [1.32097198e-05 4.88381586e-06 3.32275341e-07 4.08513234e-06]\n",
      " [0.00000000e+00 0.00000000e+00 0.00000000e+00 0.00000000e+00]\n",
      " [0.00000000e+00 1.01973535e-05 0.00000000e+00 0.00000000e+00]\n",
      " [1.50671599e-04 0.00000000e+00 6.55862948e-01 1.62843920e-04]\n",
      " [2.01041876e-03 0.00000000e+00 9.99981900e-01 0.00000000e+00]\n",
      " [0.00000000e+00 0.00000000e+00 0.00000000e+00 0.00000000e+00]]\n"
     ]
    },
    {
     "data": {
      "image/png": "[encoded data removed]",
      "text/plain": [
       "<Figure size 640x480 with 1 Axes>"
      ]
     },
     "metadata": {},
     "output_type": "display_data"
    }
   ],
   "source": [
    "env = gym.make('FrozenLake-v1', map_name=\"8x8\", is_slippery=True, render_mode='human' if render_mode_enabled else None)\n",
    "q_values = np.zeros((env.observation_space.n, env.action_space.n))\n",
    "epsilon = 1\n",
    "reward_found_in_episode = np.zeros(EPISODES)\n",
    "LEARNING_RATE = 0.9\n",
    "\n",
    "for episode in range(EPISODES):\n",
    "    state = env.reset()[0]\n",
    "\n",
    "    terminated = False\n",
    "    lost = False\n",
    "\n",
    "    while(not terminated and not lost):\n",
    "        \n",
    "        if random_generator.random() < epsilon:\n",
    "            action = env.action_space.sample()\n",
    "        else:\n",
    "            action = np.argmax(q_values[state, :])\n",
    "        \n",
    "        new_state, reward, terminated, lost, _ = env.step(action)\n",
    "\n",
    "        q_values[state, action] = q_values[state, action] + LEARNING_RATE * (\n",
    "            reward + DISCOUNT_FACTOR * np.max(q_values[new_state,:]) - q_values[state,action]\n",
    "        )\n",
    "        \n",
    "        state = new_state\n",
    "\n",
    "    \n",
    "    epsilon = max(epsilon - EPSILON_DECAY_RATE, 0)\n",
    "\n",
    "    if epsilon == 0:\n",
    "        LEARNING_RATE = 0.0001\n",
    "\n",
    "    if reward == 1:\n",
    "        reward_found_in_episode[episode] = 1\n",
    "\n",
    "rewards_graph = np.zeros(EPISODES)\n",
    "\n",
    "for episode in range(EPISODES):\n",
    "    rewards_graph[episode] = np.sum(reward_found_in_episode[max(0, episode - 100) : (episode + 1)])\n",
    "\n",
    "plt.plot(rewards_graph)\n",
    "print(q_values)"
   ]
  },
  {
   "cell_type": "markdown",
   "metadata": {},
   "source": [
    "დავხუროთ გარემო"
   ]
  },
  {
   "cell_type": "code",
   "execution_count": 36,
   "metadata": {},
   "outputs": [],
   "source": [
    "env.close()"
   ]
  }
 ],
 "metadata": {
  "kernelspec": {
   "display_name": "rl_course",
   "language": "python",
   "name": "python3"
  },
  "language_info": {
   "codemirror_mode": {
    "name": "ipython",
    "version": 3
   },
   "file_extension": ".py",
   "mimetype": "text/x-python",
   "name": "python",
   "nbconvert_exporter": "python",
   "pygments_lexer": "ipython3",
   "version": "3.10.14"
  }
 },
 "nbformat": 4,
 "nbformat_minor": 2
}
